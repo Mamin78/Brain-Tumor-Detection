{
  "nbformat": 4,
  "nbformat_minor": 0,
  "metadata": {
    "colab": {
      "provenance": [],
      "collapsed_sections": []
    },
    "kernelspec": {
      "name": "python3",
      "display_name": "Python 3"
    },
    "language_info": {
      "name": "python"
    },
    "accelerator": "GPU",
    "widgets": {
      "application/vnd.jupyter.widget-state+json": {
        "d5d7d70e510145bb986f67fe892b85c1": {
          "model_module": "@jupyter-widgets/controls",
          "model_name": "HBoxModel",
          "model_module_version": "1.5.0",
          "state": {
            "_dom_classes": [],
            "_model_module": "@jupyter-widgets/controls",
            "_model_module_version": "1.5.0",
            "_model_name": "HBoxModel",
            "_view_count": null,
            "_view_module": "@jupyter-widgets/controls",
            "_view_module_version": "1.5.0",
            "_view_name": "HBoxView",
            "box_style": "",
            "children": [
              "IPY_MODEL_9a27f9d104a2456a9d8cbd0b020c4fd3",
              "IPY_MODEL_ec7001b8b7eb47a698701fd49d734c2e",
              "IPY_MODEL_49eb9ffcec3d4a628fb1003949e4242c"
            ],
            "layout": "IPY_MODEL_62e96f03d5624ac8906b5af97b886d59"
          }
        },
        "9a27f9d104a2456a9d8cbd0b020c4fd3": {
          "model_module": "@jupyter-widgets/controls",
          "model_name": "HTMLModel",
          "model_module_version": "1.5.0",
          "state": {
            "_dom_classes": [],
            "_model_module": "@jupyter-widgets/controls",
            "_model_module_version": "1.5.0",
            "_model_name": "HTMLModel",
            "_view_count": null,
            "_view_module": "@jupyter-widgets/controls",
            "_view_module_version": "1.5.0",
            "_view_name": "HTMLView",
            "description": "",
            "description_tooltip": null,
            "layout": "IPY_MODEL_ced2c0348ec94e21b77542672a44728b",
            "placeholder": "​",
            "style": "IPY_MODEL_8d7ba4d64b7a4017bb481f7d0e4886b5",
            "value": "100%"
          }
        },
        "ec7001b8b7eb47a698701fd49d734c2e": {
          "model_module": "@jupyter-widgets/controls",
          "model_name": "FloatProgressModel",
          "model_module_version": "1.5.0",
          "state": {
            "_dom_classes": [],
            "_model_module": "@jupyter-widgets/controls",
            "_model_module_version": "1.5.0",
            "_model_name": "FloatProgressModel",
            "_view_count": null,
            "_view_module": "@jupyter-widgets/controls",
            "_view_module_version": "1.5.0",
            "_view_name": "ProgressView",
            "bar_style": "success",
            "description": "",
            "description_tooltip": null,
            "layout": "IPY_MODEL_0f88447fb493452db00c1afdf057ae8b",
            "max": 46830571,
            "min": 0,
            "orientation": "horizontal",
            "style": "IPY_MODEL_8d9c17556f6f42d2b70950adc32461cc",
            "value": 46830571
          }
        },
        "49eb9ffcec3d4a628fb1003949e4242c": {
          "model_module": "@jupyter-widgets/controls",
          "model_name": "HTMLModel",
          "model_module_version": "1.5.0",
          "state": {
            "_dom_classes": [],
            "_model_module": "@jupyter-widgets/controls",
            "_model_module_version": "1.5.0",
            "_model_name": "HTMLModel",
            "_view_count": null,
            "_view_module": "@jupyter-widgets/controls",
            "_view_module_version": "1.5.0",
            "_view_name": "HTMLView",
            "description": "",
            "description_tooltip": null,
            "layout": "IPY_MODEL_5c9204401b934b1da036a83a05a9b8b6",
            "placeholder": "​",
            "style": "IPY_MODEL_700450cb08a74110a8f3f750321ca92d",
            "value": " 44.7M/44.7M [00:00&lt;00:00, 120MB/s]"
          }
        },
        "62e96f03d5624ac8906b5af97b886d59": {
          "model_module": "@jupyter-widgets/base",
          "model_name": "LayoutModel",
          "model_module_version": "1.2.0",
          "state": {
            "_model_module": "@jupyter-widgets/base",
            "_model_module_version": "1.2.0",
            "_model_name": "LayoutModel",
            "_view_count": null,
            "_view_module": "@jupyter-widgets/base",
            "_view_module_version": "1.2.0",
            "_view_name": "LayoutView",
            "align_content": null,
            "align_items": null,
            "align_self": null,
            "border": null,
            "bottom": null,
            "display": null,
            "flex": null,
            "flex_flow": null,
            "grid_area": null,
            "grid_auto_columns": null,
            "grid_auto_flow": null,
            "grid_auto_rows": null,
            "grid_column": null,
            "grid_gap": null,
            "grid_row": null,
            "grid_template_areas": null,
            "grid_template_columns": null,
            "grid_template_rows": null,
            "height": null,
            "justify_content": null,
            "justify_items": null,
            "left": null,
            "margin": null,
            "max_height": null,
            "max_width": null,
            "min_height": null,
            "min_width": null,
            "object_fit": null,
            "object_position": null,
            "order": null,
            "overflow": null,
            "overflow_x": null,
            "overflow_y": null,
            "padding": null,
            "right": null,
            "top": null,
            "visibility": null,
            "width": null
          }
        },
        "ced2c0348ec94e21b77542672a44728b": {
          "model_module": "@jupyter-widgets/base",
          "model_name": "LayoutModel",
          "model_module_version": "1.2.0",
          "state": {
            "_model_module": "@jupyter-widgets/base",
            "_model_module_version": "1.2.0",
            "_model_name": "LayoutModel",
            "_view_count": null,
            "_view_module": "@jupyter-widgets/base",
            "_view_module_version": "1.2.0",
            "_view_name": "LayoutView",
            "align_content": null,
            "align_items": null,
            "align_self": null,
            "border": null,
            "bottom": null,
            "display": null,
            "flex": null,
            "flex_flow": null,
            "grid_area": null,
            "grid_auto_columns": null,
            "grid_auto_flow": null,
            "grid_auto_rows": null,
            "grid_column": null,
            "grid_gap": null,
            "grid_row": null,
            "grid_template_areas": null,
            "grid_template_columns": null,
            "grid_template_rows": null,
            "height": null,
            "justify_content": null,
            "justify_items": null,
            "left": null,
            "margin": null,
            "max_height": null,
            "max_width": null,
            "min_height": null,
            "min_width": null,
            "object_fit": null,
            "object_position": null,
            "order": null,
            "overflow": null,
            "overflow_x": null,
            "overflow_y": null,
            "padding": null,
            "right": null,
            "top": null,
            "visibility": null,
            "width": null
          }
        },
        "8d7ba4d64b7a4017bb481f7d0e4886b5": {
          "model_module": "@jupyter-widgets/controls",
          "model_name": "DescriptionStyleModel",
          "model_module_version": "1.5.0",
          "state": {
            "_model_module": "@jupyter-widgets/controls",
            "_model_module_version": "1.5.0",
            "_model_name": "DescriptionStyleModel",
            "_view_count": null,
            "_view_module": "@jupyter-widgets/base",
            "_view_module_version": "1.2.0",
            "_view_name": "StyleView",
            "description_width": ""
          }
        },
        "0f88447fb493452db00c1afdf057ae8b": {
          "model_module": "@jupyter-widgets/base",
          "model_name": "LayoutModel",
          "model_module_version": "1.2.0",
          "state": {
            "_model_module": "@jupyter-widgets/base",
            "_model_module_version": "1.2.0",
            "_model_name": "LayoutModel",
            "_view_count": null,
            "_view_module": "@jupyter-widgets/base",
            "_view_module_version": "1.2.0",
            "_view_name": "LayoutView",
            "align_content": null,
            "align_items": null,
            "align_self": null,
            "border": null,
            "bottom": null,
            "display": null,
            "flex": null,
            "flex_flow": null,
            "grid_area": null,
            "grid_auto_columns": null,
            "grid_auto_flow": null,
            "grid_auto_rows": null,
            "grid_column": null,
            "grid_gap": null,
            "grid_row": null,
            "grid_template_areas": null,
            "grid_template_columns": null,
            "grid_template_rows": null,
            "height": null,
            "justify_content": null,
            "justify_items": null,
            "left": null,
            "margin": null,
            "max_height": null,
            "max_width": null,
            "min_height": null,
            "min_width": null,
            "object_fit": null,
            "object_position": null,
            "order": null,
            "overflow": null,
            "overflow_x": null,
            "overflow_y": null,
            "padding": null,
            "right": null,
            "top": null,
            "visibility": null,
            "width": null
          }
        },
        "8d9c17556f6f42d2b70950adc32461cc": {
          "model_module": "@jupyter-widgets/controls",
          "model_name": "ProgressStyleModel",
          "model_module_version": "1.5.0",
          "state": {
            "_model_module": "@jupyter-widgets/controls",
            "_model_module_version": "1.5.0",
            "_model_name": "ProgressStyleModel",
            "_view_count": null,
            "_view_module": "@jupyter-widgets/base",
            "_view_module_version": "1.2.0",
            "_view_name": "StyleView",
            "bar_color": null,
            "description_width": ""
          }
        },
        "5c9204401b934b1da036a83a05a9b8b6": {
          "model_module": "@jupyter-widgets/base",
          "model_name": "LayoutModel",
          "model_module_version": "1.2.0",
          "state": {
            "_model_module": "@jupyter-widgets/base",
            "_model_module_version": "1.2.0",
            "_model_name": "LayoutModel",
            "_view_count": null,
            "_view_module": "@jupyter-widgets/base",
            "_view_module_version": "1.2.0",
            "_view_name": "LayoutView",
            "align_content": null,
            "align_items": null,
            "align_self": null,
            "border": null,
            "bottom": null,
            "display": null,
            "flex": null,
            "flex_flow": null,
            "grid_area": null,
            "grid_auto_columns": null,
            "grid_auto_flow": null,
            "grid_auto_rows": null,
            "grid_column": null,
            "grid_gap": null,
            "grid_row": null,
            "grid_template_areas": null,
            "grid_template_columns": null,
            "grid_template_rows": null,
            "height": null,
            "justify_content": null,
            "justify_items": null,
            "left": null,
            "margin": null,
            "max_height": null,
            "max_width": null,
            "min_height": null,
            "min_width": null,
            "object_fit": null,
            "object_position": null,
            "order": null,
            "overflow": null,
            "overflow_x": null,
            "overflow_y": null,
            "padding": null,
            "right": null,
            "top": null,
            "visibility": null,
            "width": null
          }
        },
        "700450cb08a74110a8f3f750321ca92d": {
          "model_module": "@jupyter-widgets/controls",
          "model_name": "DescriptionStyleModel",
          "model_module_version": "1.5.0",
          "state": {
            "_model_module": "@jupyter-widgets/controls",
            "_model_module_version": "1.5.0",
            "_model_name": "DescriptionStyleModel",
            "_view_count": null,
            "_view_module": "@jupyter-widgets/base",
            "_view_module_version": "1.2.0",
            "_view_name": "StyleView",
            "description_width": ""
          }
        }
      }
    }
  },
  "cells": [
    {
      "cell_type": "code",
      "source": [
        "from google.colab import drive\n",
        "drive.mount('/content/drive')"
      ],
      "metadata": {
        "colab": {
          "base_uri": "https://localhost:8080/"
        },
        "id": "optpQdHSnFLl",
        "outputId": "0a13d3e0-e60f-42b4-9d82-960537b759af"
      },
      "execution_count": 1,
      "outputs": [
        {
          "output_type": "stream",
          "name": "stdout",
          "text": [
            "Mounted at /content/drive\n"
          ]
        }
      ]
    },
    {
      "cell_type": "code",
      "source": [
        "!unzip '/content/drive/MyDrive/Datasets/Brain Tumor MRI dataset.zip' -d '/content/'"
      ],
      "metadata": {
        "id": "Vwg018OZj64S"
      },
      "execution_count": null,
      "outputs": []
    },
    {
      "cell_type": "code",
      "execution_count": 3,
      "metadata": {
        "id": "2ZfVNGWyGxHl"
      },
      "outputs": [],
      "source": [
        "import torch\n",
        "import torch.nn as nn\n",
        "from torch import tensor, optim\n",
        "from torch.optim import lr_scheduler\n",
        "from torch.utils.data import Dataset, random_split, DataLoader\n",
        "from torchvision import datasets, models, transforms\n",
        "import torchvision.transforms.functional as F\n",
        "import matplotlib.pyplot as plt\n",
        "import os, time, csv, copy\n",
        "from PIL import Image\n",
        "import pandas as pd\n",
        "import torchvision\n",
        "import numpy as np"
      ]
    },
    {
      "cell_type": "code",
      "source": [
        "device = torch.device(\"cuda:0\" if torch.cuda.is_available() else \"cpu\")"
      ],
      "metadata": {
        "id": "UP4kW64_J9Sr"
      },
      "execution_count": 4,
      "outputs": []
    },
    {
      "cell_type": "code",
      "source": [
        "class SquarePad:\n",
        "    def __call__(self, image):\n",
        "        max_wh = max(image.size)\n",
        "        p_left, p_top = [(max_wh - s) // 2 for s in image.size]\n",
        "        p_right, p_bottom = [max_wh - (s + pad) for s, pad in zip(image.size, [p_left, p_top])]\n",
        "        padding = [p_left, p_top, p_right, p_bottom]\n",
        "        return F.pad(image, padding, 0, 'constant')"
      ],
      "metadata": {
        "id": "hS-kDOIKIy7Z"
      },
      "execution_count": 5,
      "outputs": []
    },
    {
      "cell_type": "code",
      "source": [
        "target_image_size = (512, 512)\n",
        "transform = transforms.Compose([\n",
        "    SquarePad(),\n",
        "    transforms.Resize(target_image_size),\n",
        "    transforms.RandomHorizontalFlip(p=0.5),\n",
        "    transforms.RandomRotation(10),\n",
        "    transforms.ToTensor(),\n",
        "    transforms.Normalize(mean=[0.485, 0.456, 0.406], std=[0.229, 0.224, 0.225]),\n",
        "])"
      ],
      "metadata": {
        "id": "HRazNpwwKYRu"
      },
      "execution_count": 6,
      "outputs": []
    },
    {
      "cell_type": "code",
      "source": [
        "def imshow(inp, title=None):\n",
        "    \"\"\"Imshow for Tensor.\"\"\"\n",
        "    inp = inp.numpy().transpose((1, 2, 0))\n",
        "    mean = np.array([0.485, 0.456, 0.406])\n",
        "    std = np.array([0.229, 0.224, 0.225])\n",
        "    inp = std * inp + mean\n",
        "    inp = np.clip(inp, 0, 1)\n",
        "    plt.imshow(inp)\n",
        "    if title is not None:\n",
        "        plt.title(title)\n",
        "    plt.pause(0.001)  # pause a bit so that plots are updated\n"
      ],
      "metadata": {
        "id": "FwsIw7u5T7Et"
      },
      "execution_count": 9,
      "outputs": []
    },
    {
      "cell_type": "code",
      "source": [
        "def train_model(model, criterion, optimizer, scheduler, data_loaders, dataset_sizes, num_epochs=25, log_interval=5, checkpoint_path=\"\"):\n",
        "    since = time.time()\n",
        "\n",
        "    best_model_wts = copy.deepcopy(model.state_dict())\n",
        "    least_loss = np.Inf\n",
        "\n",
        "    for epoch in range(num_epochs):\n",
        "        print('Epoch {}/{}'.format(epoch, num_epochs - 1))\n",
        "        print('-' * 10)\n",
        "\n",
        "        # Each epoch has a training and validation phase\n",
        "        for phase in ['train', 'val']:\n",
        "            \n",
        "            if phase == 'train':\n",
        "                model.train()  # Set model to training mode\n",
        "            else:\n",
        "                model.eval()  # Set model to evaluate mode\n",
        "\n",
        "            if phase == 'val' and not ((epoch + 1) % log_interval):\n",
        "              continue\n",
        "\n",
        "            running_loss = 0.0\n",
        "            running_corrects = 0\n",
        "\n",
        "            # Iterate over data.\n",
        "            for inputs, labels in data_loaders[phase]:\n",
        "                inputs = inputs.to(device)\n",
        "                labels = labels.to(device)\n",
        "\n",
        "                # zero the parameter gradients\n",
        "                optimizer.zero_grad()\n",
        "\n",
        "                # forward\n",
        "                # track history if only in train\n",
        "                with torch.set_grad_enabled(phase == 'train'):\n",
        "                    outputs = model(inputs)\n",
        "                    _, preds = torch.max(outputs, 1)\n",
        "                    loss = criterion(outputs, labels)\n",
        "\n",
        "                    # backward + optimize only if in training phase\n",
        "                    if phase == 'train':\n",
        "                        loss.backward()\n",
        "                        optimizer.step()\n",
        "\n",
        "                # statistics\n",
        "                running_loss += loss.item() * inputs.size(0)\n",
        "                running_corrects += torch.sum(preds == labels.data)\n",
        "            \n",
        "            if phase == 'train':\n",
        "                scheduler.step()\n",
        "\n",
        "            epoch_loss = running_loss / dataset_sizes[phase]\n",
        "            epoch_acc = running_corrects.double() / dataset_sizes[phase]\n",
        "\n",
        "            print('{} Loss: {:.4f} Acc: {:.4f}'.format(phase, epoch_loss, epoch_acc))\n",
        "\n",
        "            # deep copy the model\n",
        "            if phase == 'val' and epoch_loss < least_loss:\n",
        "                least_loss = epoch_loss\n",
        "                best_model_wts = copy.deepcopy(model.state_dict())\n",
        "                torch.save(model_ft.state_dict(), os.path.join(checkpoint_path, \"model_best.pt\"))\n",
        "            torch.save(model_ft.state_dict(), os.path.join(checkpoint_path, \"model_last.pt\"))\n",
        "\n",
        "        print()\n",
        "\n",
        "    time_elapsed = time.time() - since\n",
        "    print('Training complete in {:.0f}m {:.0f}s'.format(time_elapsed // 60, time_elapsed % 60))\n",
        "    print('Best val Loss: {:4f}'.format(least_loss))\n",
        "\n",
        "    # load best model weights\n",
        "    model.load_state_dict(best_model_wts)\n",
        "    return model"
      ],
      "metadata": {
        "id": "_2sQCQ40HzYb"
      },
      "execution_count": 10,
      "outputs": []
    },
    {
      "cell_type": "code",
      "source": [
        "DATA_DIR = '/content/Training'\n",
        "BATCH_SIZE = 32"
      ],
      "metadata": {
        "id": "R0Xo0iiBSwp-"
      },
      "execution_count": 14,
      "outputs": []
    },
    {
      "cell_type": "code",
      "source": [
        "def train_val_split(dataset, p=0.4):\n",
        "  dataset_size = len(dataset)\n",
        "  train_size = (1 - p) * dataset_size\n",
        "  train_size = int(train_size)\n",
        "  val_size = dataset_size - train_size \n",
        "\n",
        "  return random_split(dataset, [train_size, val_size])"
      ],
      "metadata": {
        "id": "qfZXpuRnf8iF"
      },
      "execution_count": 15,
      "outputs": []
    },
    {
      "cell_type": "code",
      "source": [
        "dataset = datasets.ImageFolder(DATA_DIR, transform=transform)"
      ],
      "metadata": {
        "id": "bAUL5kmkRsIX"
      },
      "execution_count": 16,
      "outputs": []
    },
    {
      "cell_type": "code",
      "source": [
        "len(dataset)"
      ],
      "metadata": {
        "colab": {
          "base_uri": "https://localhost:8080/"
        },
        "id": "ZpFlMLC-sHqL",
        "outputId": "09be065d-eae4-4d89-e3ba-33ba1d93354e"
      },
      "execution_count": 18,
      "outputs": [
        {
          "output_type": "execute_result",
          "data": {
            "text/plain": [
              "5712"
            ]
          },
          "metadata": {},
          "execution_count": 18
        }
      ]
    },
    {
      "cell_type": "code",
      "source": [
        "# Load dataset\n",
        "train_set, val_set = train_val_split(dataset)\n",
        "trainloader = DataLoader(train_set, batch_size=BATCH_SIZE, shuffle=True, num_workers=1)\n",
        "valloader = DataLoader(val_set, batch_size=BATCH_SIZE, shuffle=False, num_workers=1)\n",
        "\n",
        "data_loaders = {'train': trainloader,'val': valloader}\n",
        "dataset_sizes = {'train': len(train_set),'val': len(val_set)}\n",
        "CLASS_NAMES =  dataset.classes"
      ],
      "metadata": {
        "id": "hC-SaoCJMRun"
      },
      "execution_count": 19,
      "outputs": []
    },
    {
      "cell_type": "code",
      "source": [
        "# Get a batch of training data\n",
        "inputs, classes = next(iter(data_loaders['train']))\n",
        "\n",
        "# Make a grid from batch\n",
        "out = torchvision.utils.make_grid(inputs)\n",
        "\n",
        "imshow(out, title=[CLASS_NAMES[x] for x in classes])\n"
      ],
      "metadata": {
        "id": "x7rNb0ojTLOh",
        "colab": {
          "base_uri": "https://localhost:8080/",
          "height": 110
        },
        "outputId": "d74a1fb6-7d26-4be7-a46a-107f35e70dbd"
      },
      "execution_count": 20,
      "outputs": [
        {
          "output_type": "display_data",
          "data": {
            "text/plain": [
              "<Figure size 432x288 with 1 Axes>"
            ],
            "image/png": "[encoded data removed]"
          },
          "metadata": {
            "needs_background": "light"
          }
        }
      ]
    },
    {
      "cell_type": "code",
      "source": [
        "EPOCHS = 20\n",
        "LOG_INTERVAL = 300\n",
        "NUM_CLASSES = len(CLASS_NAMES)\n",
        "CHECKPOINT_DIR = '/content/drive/MyDrive/Brain Tumor MRI Classifier'"
      ],
      "metadata": {
        "id": "bfKm-EEzMXGL"
      },
      "execution_count": 21,
      "outputs": []
    },
    {
      "cell_type": "code",
      "source": [
        "# Load model\n",
        "\n",
        "# model_ft = models.wide_resnet101_2(pretrained=True)\n",
        "model_ft = models.resnet18(pretrained=True)\n",
        "\n",
        "num_ftrs = model_ft.fc.in_features\n",
        "model_ft.fc = nn.Linear(num_ftrs, NUM_CLASSES)\n",
        "\n",
        "model_ft = model_ft.to(device)\n",
        "\n",
        "criterion = nn.CrossEntropyLoss()\n",
        "optimizer_ft = optim.Adam(model_ft.parameters(), lr=0.0005)\n",
        "exp_lr_scheduler = lr_scheduler.StepLR(optimizer_ft, step_size=7, gamma=0.1)\n"
      ],
      "metadata": {
        "id": "lQHdawWKMQin",
        "colab": {
          "base_uri": "https://localhost:8080/",
          "height": 156,
          "referenced_widgets": [
            "d5d7d70e510145bb986f67fe892b85c1",
            "9a27f9d104a2456a9d8cbd0b020c4fd3",
            "ec7001b8b7eb47a698701fd49d734c2e",
            "49eb9ffcec3d4a628fb1003949e4242c",
            "62e96f03d5624ac8906b5af97b886d59",
            "ced2c0348ec94e21b77542672a44728b",
            "8d7ba4d64b7a4017bb481f7d0e4886b5",
            "0f88447fb493452db00c1afdf057ae8b",
            "8d9c17556f6f42d2b70950adc32461cc",
            "5c9204401b934b1da036a83a05a9b8b6",
            "700450cb08a74110a8f3f750321ca92d"
          ]
        },
        "outputId": "824e1728-d26a-4db3-e03d-0d50567d84cc"
      },
      "execution_count": 22,
      "outputs": [
        {
          "output_type": "stream",
          "name": "stderr",
          "text": [
            "/usr/local/lib/python3.7/dist-packages/torchvision/models/_utils.py:209: UserWarning: The parameter 'pretrained' is deprecated since 0.13 and will be removed in 0.15, please use 'weights' instead.\n",
            "  f\"The parameter '{pretrained_param}' is deprecated since 0.13 and will be removed in 0.15, \"\n",
            "/usr/local/lib/python3.7/dist-packages/torchvision/models/_utils.py:223: UserWarning: Arguments other than a weight enum or `None` for 'weights' are deprecated since 0.13 and will be removed in 0.15. The current behavior is equivalent to passing `weights=ResNet18_Weights.IMAGENET1K_V1`. You can also use `weights=ResNet18_Weights.DEFAULT` to get the most up-to-date weights.\n",
            "  warnings.warn(msg)\n",
            "Downloading: \"https://download.pytorch.org/models/resnet18-f37072fd.pth\" to /root/.cache/torch/hub/checkpoints/resnet18-f37072fd.pth\n"
          ]
        },
        {
          "output_type": "display_data",
          "data": {
            "text/plain": [
              "  0%|          | 0.00/44.7M [00:00<?, ?B/s]"
            ],
            "application/vnd.jupyter.widget-view+json": {
              "version_major": 2,
              "version_minor": 0,
              "model_id": "d5d7d70e510145bb986f67fe892b85c1"
            }
          },
          "metadata": {}
        }
      ]
    },
    {
      "cell_type": "code",
      "source": [
        "model_ft = train_model(model_ft, \n",
        "                       criterion, \n",
        "                       optimizer_ft, \n",
        "                       exp_lr_scheduler,\n",
        "                       data_loaders,\n",
        "                       dataset_sizes,\n",
        "                       num_epochs=25, \n",
        "                       log_interval=LOG_INTERVAL, \n",
        "                       checkpoint_path=CHECKPOINT_DIR)"
      ],
      "metadata": {
        "id": "sblFJzISO00L",
        "colab": {
          "base_uri": "https://localhost:8080/"
        },
        "outputId": "10d8de4e-a93d-4808-a8e1-42468a080b50"
      },
      "execution_count": 23,
      "outputs": [
        {
          "output_type": "stream",
          "name": "stdout",
          "text": [
            "Epoch 0/24\n",
            "----------\n",
            "train Loss: 0.3414 Acc: 0.8801\n",
            "val Loss: 0.3721 Acc: 0.8503\n",
            "\n",
            "Epoch 1/24\n",
            "----------\n",
            "train Loss: 0.2135 Acc: 0.9262\n",
            "val Loss: 0.2882 Acc: 0.9077\n",
            "\n",
            "Epoch 2/24\n",
            "----------\n",
            "train Loss: 0.1858 Acc: 0.9381\n",
            "val Loss: 0.1192 Acc: 0.9659\n",
            "\n",
            "Epoch 3/24\n",
            "----------\n",
            "train Loss: 0.1339 Acc: 0.9527\n",
            "val Loss: 0.2785 Acc: 0.9212\n",
            "\n",
            "Epoch 4/24\n",
            "----------\n",
            "train Loss: 0.0811 Acc: 0.9737\n",
            "val Loss: 0.0707 Acc: 0.9772\n",
            "\n",
            "Epoch 5/24\n",
            "----------\n",
            "train Loss: 0.0544 Acc: 0.9828\n",
            "val Loss: 0.1304 Acc: 0.9567\n",
            "\n",
            "Epoch 6/24\n",
            "----------\n",
            "train Loss: 0.0600 Acc: 0.9793\n",
            "val Loss: 0.1589 Acc: 0.9492\n",
            "\n",
            "Epoch 7/24\n",
            "----------\n",
            "train Loss: 0.0404 Acc: 0.9877\n",
            "val Loss: 0.0545 Acc: 0.9864\n",
            "\n",
            "Epoch 8/24\n",
            "----------\n",
            "train Loss: 0.0238 Acc: 0.9936\n",
            "val Loss: 0.0530 Acc: 0.9869\n",
            "\n",
            "Epoch 9/24\n",
            "----------\n",
            "train Loss: 0.0193 Acc: 0.9959\n",
            "val Loss: 0.0490 Acc: 0.9873\n",
            "\n",
            "Epoch 10/24\n",
            "----------\n",
            "train Loss: 0.0179 Acc: 0.9947\n",
            "val Loss: 0.0451 Acc: 0.9873\n",
            "\n",
            "Epoch 11/24\n",
            "----------\n",
            "train Loss: 0.0113 Acc: 0.9977\n",
            "val Loss: 0.0462 Acc: 0.9895\n",
            "\n",
            "Epoch 12/24\n",
            "----------\n",
            "train Loss: 0.0130 Acc: 0.9965\n",
            "val Loss: 0.0461 Acc: 0.9877\n",
            "\n",
            "Epoch 13/24\n",
            "----------\n",
            "train Loss: 0.0089 Acc: 0.9985\n",
            "val Loss: 0.0436 Acc: 0.9899\n",
            "\n",
            "Epoch 14/24\n",
            "----------\n",
            "train Loss: 0.0069 Acc: 0.9991\n",
            "val Loss: 0.0402 Acc: 0.9908\n",
            "\n",
            "Epoch 15/24\n",
            "----------\n",
            "train Loss: 0.0083 Acc: 0.9988\n",
            "val Loss: 0.0463 Acc: 0.9877\n",
            "\n",
            "Epoch 16/24\n",
            "----------\n",
            "train Loss: 0.0076 Acc: 0.9988\n",
            "val Loss: 0.0446 Acc: 0.9886\n",
            "\n",
            "Epoch 17/24\n",
            "----------\n",
            "train Loss: 0.0066 Acc: 0.9997\n",
            "val Loss: 0.0457 Acc: 0.9895\n",
            "\n",
            "Epoch 18/24\n",
            "----------\n",
            "train Loss: 0.0089 Acc: 0.9977\n",
            "val Loss: 0.0421 Acc: 0.9882\n",
            "\n",
            "Epoch 19/24\n",
            "----------\n",
            "train Loss: 0.0070 Acc: 0.9991\n",
            "val Loss: 0.0442 Acc: 0.9864\n",
            "\n",
            "Epoch 20/24\n",
            "----------\n",
            "train Loss: 0.0063 Acc: 0.9988\n",
            "val Loss: 0.0466 Acc: 0.9886\n",
            "\n",
            "Epoch 21/24\n",
            "----------\n",
            "train Loss: 0.0058 Acc: 0.9997\n",
            "val Loss: 0.0443 Acc: 0.9882\n",
            "\n",
            "Epoch 22/24\n",
            "----------\n",
            "train Loss: 0.0081 Acc: 0.9982\n",
            "val Loss: 0.0458 Acc: 0.9882\n",
            "\n",
            "Epoch 23/24\n",
            "----------\n",
            "train Loss: 0.0071 Acc: 0.9994\n",
            "val Loss: 0.0434 Acc: 0.9891\n",
            "\n",
            "Epoch 24/24\n",
            "----------\n",
            "train Loss: 0.0074 Acc: 0.9994\n",
            "val Loss: 0.0444 Acc: 0.9899\n",
            "\n",
            "Training complete in 32m 28s\n",
            "Best val Loss: 0.040157\n"
          ]
        }
      ]
    },
    {
      "cell_type": "code",
      "source": [
        "def predict(model, dataloaders, class_names, num_images=6):\n",
        "    was_training = model.training\n",
        "    model.eval()\n",
        "    images_so_far = 0\n",
        "    fig = plt.figure()\n",
        "\n",
        "    with torch.no_grad():\n",
        "        for i, (inputs, labels) in enumerate(dataloaders['val']):\n",
        "            inputs = inputs.to(device)\n",
        "            labels = labels.to(device)\n",
        "\n",
        "            outputs = model(inputs)\n",
        "            _, preds = torch.max(outputs, 1)\n",
        "\n",
        "            for j in range(inputs.size()[0]):\n",
        "                images_so_far += 1\n",
        "                ax = plt.subplot(num_images//2, 2, images_so_far)\n",
        "                ax.axis('off')\n",
        "                ax.set_title('predicted: {}'.format(class_names[preds[j]]))\n",
        "                imshow(inputs.cpu().data[j])\n",
        "\n",
        "                if images_so_far == num_images:\n",
        "                    model.train(mode=was_training)\n",
        "                    return"
      ],
      "metadata": {
        "id": "0RaRyI8gTNa_"
      },
      "execution_count": 24,
      "outputs": []
    },
    {
      "cell_type": "code",
      "source": [
        "# Load model\n",
        "\n",
        "# model_ft = models.wide_resnet101_2(pretrained=True)\n",
        "model_ft = models.resnet18(pretrained=True)\n",
        "\n",
        "num_ftrs = model_ft.fc.in_features\n",
        "model_ft.fc = nn.Linear(num_ftrs, NUM_CLASSES)\n",
        "\n",
        "model_ft = model_ft.to(device)\n",
        "\n",
        "criterion = nn.CrossEntropyLoss()\n",
        "optimizer_ft = optim.Adam(model_ft.parameters(), lr=0.0005)\n",
        "exp_lr_scheduler = lr_scheduler.StepLR(optimizer_ft, step_size=7, gamma=0.1)\n"
      ],
      "metadata": {
        "id": "v-9n915RCmk6"
      },
      "execution_count": 25,
      "outputs": []
    },
    {
      "cell_type": "code",
      "source": [
        "model_ft.load_state_dict(torch.load('/content/drive/MyDrive/DK/model_best.pt'))"
      ],
      "metadata": {
        "colab": {
          "base_uri": "https://localhost:8080/"
        },
        "id": "m2friA4G-rjR",
        "outputId": "69a632c8-f80a-4f5a-e9de-1ea96872a871"
      },
      "execution_count": 26,
      "outputs": [
        {
          "output_type": "execute_result",
          "data": {
            "text/plain": [
              "<All keys matched successfully>"
            ]
          },
          "metadata": {},
          "execution_count": 26
        }
      ]
    },
    {
      "cell_type": "code",
      "source": [
        "def do_test(add='/content/Testing'):\n",
        "  f = open('output.csv', 'w')\n",
        "  writer = csv.writer(f)\n",
        "  writer.writerow(['name', 'predicted', 'real_label'])\n",
        "  for class_name in os.listdir(add):\n",
        "    test_files_path = os.path.join(add, class_name)\n",
        "\n",
        "    model_ft.eval()\n",
        "    with torch.no_grad():\n",
        "        for category_idx, filename in enumerate(os.listdir(test_files_path)):\n",
        "            image_file = os.path.join(test_files_path, filename)\n",
        "            img = Image.open(image_file).convert('RGB')\n",
        "            img.load()\n",
        "            \n",
        "            trans_img = torch.unsqueeze(transform(img), 0).to(device)\n",
        "            logits = model_ft(trans_img)\n",
        "            \n",
        "            _, predicted = torch.max(logits, 1)\n",
        "            \n",
        "            idx_pred = predicted.detach().item()\n",
        "            cat_pred = list(dataset.class_to_idx.keys())[list(dataset.class_to_idx.values()).index(idx_pred)]\n",
        "            row = [filename, cat_pred, class_name]\n",
        "            writer.writerow(row)\n",
        "          \n",
        "  f.close()"
      ],
      "metadata": {
        "id": "lLWWuq2V-rgC"
      },
      "execution_count": 41,
      "outputs": []
    },
    {
      "cell_type": "code",
      "source": [
        "do_test(add='/content/Testing')"
      ],
      "metadata": {
        "id": "NTcljMWj0jYG"
      },
      "execution_count": 42,
      "outputs": []
    },
    {
      "cell_type": "code",
      "source": [
        "out = pd.read_csv('/content/output.csv')"
      ],
      "metadata": {
        "id": "Ggy6pAKV_f57"
      },
      "execution_count": 57,
      "outputs": []
    },
    {
      "cell_type": "code",
      "source": [
        "out"
      ],
      "metadata": {
        "colab": {
          "base_uri": "https://localhost:8080/",
          "height": 424
        },
        "id": "7HPox_YszE1g",
        "outputId": "16555026-c5f4-4cfb-c453-5f037296c663"
      },
      "execution_count": 58,
      "outputs": [
        {
          "output_type": "execute_result",
          "data": {
            "text/plain": [
              "                name  predicted real_label\n",
              "0     Te-pi_0030.jpg  pituitary  pituitary\n",
              "1     Te-pi_0076.jpg  pituitary  pituitary\n",
              "2     Te-pi_0135.jpg  pituitary  pituitary\n",
              "3     Te-pi_0286.jpg  pituitary  pituitary\n",
              "4     Te-pi_0228.jpg  pituitary  pituitary\n",
              "...              ...        ...        ...\n",
              "1306  Te-gl_0274.jpg     glioma     glioma\n",
              "1307  Te-gl_0171.jpg     glioma     glioma\n",
              "1308  Te-gl_0186.jpg     glioma     glioma\n",
              "1309  Te-gl_0079.jpg     glioma     glioma\n",
              "1310  Te-gl_0026.jpg     glioma     glioma\n",
              "\n",
              "[1311 rows x 3 columns]"
            ],
            "text/html": [
              "\n",
              "  <div id=\"df-79c890c2-d308-4ce6-8607-230c965157da\">\n",
              "    <div class=\"colab-df-container\">\n",
              "      <div>\n",
              "<style scoped>\n",
              "    .dataframe tbody tr th:only-of-type {\n",
              "        vertical-align: middle;\n",
              "    }\n",
              "\n",
              "    .dataframe tbody tr th {\n",
              "        vertical-align: top;\n",
              "    }\n",
              "\n",
              "    .dataframe thead th {\n",
              "        text-align: right;\n",
              "    }\n",
              "</style>\n",
              "<table border=\"1\" class=\"dataframe\">\n",
              "  <thead>\n",
              "    <tr style=\"text-align: right;\">\n",
              "      <th></th>\n",
              "      <th>name</th>\n",
              "      <th>predicted</th>\n",
              "      <th>real_label</th>\n",
              "    </tr>\n",
              "  </thead>\n",
              "  <tbody>\n",
              "    <tr>\n",
              "      <th>0</th>\n",
              "      <td>Te-pi_0030.jpg</td>\n",
              "      <td>pituitary</td>\n",
              "      <td>pituitary</td>\n",
              "    </tr>\n",
              "    <tr>\n",
              "      <th>1</th>\n",
              "      <td>Te-pi_0076.jpg</td>\n",
              "      <td>pituitary</td>\n",
              "      <td>pituitary</td>\n",
              "    </tr>\n",
              "    <tr>\n",
              "      <th>2</th>\n",
              "      <td>Te-pi_0135.jpg</td>\n",
              "      <td>pituitary</td>\n",
              "      <td>pituitary</td>\n",
              "    </tr>\n",
              "    <tr>\n",
              "      <th>3</th>\n",
              "      <td>Te-pi_0286.jpg</td>\n",
              "      <td>pituitary</td>\n",
              "      <td>pituitary</td>\n",
              "    </tr>\n",
              "    <tr>\n",
              "      <th>4</th>\n",
              "      <td>Te-pi_0228.jpg</td>\n",
              "      <td>pituitary</td>\n",
              "      <td>pituitary</td>\n",
              "    </tr>\n",
              "    <tr>\n",
              "      <th>...</th>\n",
              "      <td>...</td>\n",
              "      <td>...</td>\n",
              "      <td>...</td>\n",
              "    </tr>\n",
              "    <tr>\n",
              "      <th>1306</th>\n",
              "      <td>Te-gl_0274.jpg</td>\n",
              "      <td>glioma</td>\n",
              "      <td>glioma</td>\n",
              "    </tr>\n",
              "    <tr>\n",
              "      <th>1307</th>\n",
              "      <td>Te-gl_0171.jpg</td>\n",
              "      <td>glioma</td>\n",
              "      <td>glioma</td>\n",
              "    </tr>\n",
              "    <tr>\n",
              "      <th>1308</th>\n",
              "      <td>Te-gl_0186.jpg</td>\n",
              "      <td>glioma</td>\n",
              "      <td>glioma</td>\n",
              "    </tr>\n",
              "    <tr>\n",
              "      <th>1309</th>\n",
              "      <td>Te-gl_0079.jpg</td>\n",
              "      <td>glioma</td>\n",
              "      <td>glioma</td>\n",
              "    </tr>\n",
              "    <tr>\n",
              "      <th>1310</th>\n",
              "      <td>Te-gl_0026.jpg</td>\n",
              "      <td>glioma</td>\n",
              "      <td>glioma</td>\n",
              "    </tr>\n",
              "  </tbody>\n",
              "</table>\n",
              "<p>1311 rows × 3 columns</p>\n",
              "</div>\n",
              "      <button class=\"colab-df-convert\" onclick=\"convertToInteractive('df-79c890c2-d308-4ce6-8607-230c965157da')\"\n",
              "              title=\"Convert this dataframe to an interactive table.\"\n",
              "              style=\"display:none;\">\n",
              "        \n",
              "  <svg xmlns=\"http://www.w3.org/2000/svg\" height=\"24px\"viewBox=\"0 0 24 24\"\n",
              "       width=\"24px\">\n",
              "    <path d=\"M0 0h24v24H0V0z\" fill=\"none\"/>\n",
              "    <path d=\"M18.56 5.44l.94 2.06.94-2.06 2.06-.94-2.06-.94-.94-2.06-.94 2.06-2.06.94zm-11 1L8.5 8.5l.94-2.06 2.06-.94-2.06-.94L8.5 2.5l-.94 2.06-2.06.94zm10 10l.94 2.06.94-2.06 2.06-.94-2.06-.94-.94-2.06-.94 2.06-2.06.94z\"/><path d=\"M17.41 7.96l-1.37-1.37c-.4-.4-.92-.59-1.43-.59-.52 0-1.04.2-1.43.59L10.3 9.45l-7.72 7.72c-.78.78-.78 2.05 0 2.83L4 21.41c.39.39.9.59 1.41.59.51 0 1.02-.2 1.41-.59l7.78-7.78 2.81-2.81c.8-.78.8-2.07 0-2.86zM5.41 20L4 18.59l7.72-7.72 1.47 1.35L5.41 20z\"/>\n",
              "  </svg>\n",
              "      </button>\n",
              "      \n",
              "  <style>\n",
              "    .colab-df-container {\n",
              "      display:flex;\n",
              "      flex-wrap:wrap;\n",
              "      gap: 12px;\n",
              "    }\n",
              "\n",
              "    .colab-df-convert {\n",
              "      background-color: #E8F0FE;\n",
              "      border: none;\n",
              "      border-radius: 50%;\n",
              "      cursor: pointer;\n",
              "      display: none;\n",
              "      fill: #1967D2;\n",
              "      height: 32px;\n",
              "      padding: 0 0 0 0;\n",
              "      width: 32px;\n",
              "    }\n",
              "\n",
              "    .colab-df-convert:hover {\n",
              "      background-color: #E2EBFA;\n",
              "      box-shadow: 0px 1px 2px rgba(60, 64, 67, 0.3), 0px 1px 3px 1px rgba(60, 64, 67, 0.15);\n",
              "      fill: #174EA6;\n",
              "    }\n",
              "\n",
              "    [theme=dark] .colab-df-convert {\n",
              "      background-color: #3B4455;\n",
              "      fill: #D2E3FC;\n",
              "    }\n",
              "\n",
              "    [theme=dark] .colab-df-convert:hover {\n",
              "      background-color: #434B5C;\n",
              "      box-shadow: 0px 1px 3px 1px rgba(0, 0, 0, 0.15);\n",
              "      filter: drop-shadow(0px 1px 2px rgba(0, 0, 0, 0.3));\n",
              "      fill: #FFFFFF;\n",
              "    }\n",
              "  </style>\n",
              "\n",
              "      <script>\n",
              "        const buttonEl =\n",
              "          document.querySelector('#df-79c890c2-d308-4ce6-8607-230c965157da button.colab-df-convert');\n",
              "        buttonEl.style.display =\n",
              "          google.colab.kernel.accessAllowed ? 'block' : 'none';\n",
              "\n",
              "        async function convertToInteractive(key) {\n",
              "          const element = document.querySelector('#df-79c890c2-d308-4ce6-8607-230c965157da');\n",
              "          const dataTable =\n",
              "            await google.colab.kernel.invokeFunction('convertToInteractive',\n",
              "                                                     [key], {});\n",
              "          if (!dataTable) return;\n",
              "\n",
              "          const docLinkHtml = 'Like what you see? Visit the ' +\n",
              "            '<a target=\"_blank\" href=https://colab.research.google.com/notebooks/data_table.ipynb>data table notebook</a>'\n",
              "            + ' to learn more about interactive tables.';\n",
              "          element.innerHTML = '';\n",
              "          dataTable['output_type'] = 'display_data';\n",
              "          await google.colab.output.renderOutput(dataTable, element);\n",
              "          const docLink = document.createElement('div');\n",
              "          docLink.innerHTML = docLinkHtml;\n",
              "          element.appendChild(docLink);\n",
              "        }\n",
              "      </script>\n",
              "    </div>\n",
              "  </div>\n",
              "  "
            ]
          },
          "metadata": {},
          "execution_count": 58
        }
      ]
    },
    {
      "cell_type": "code",
      "source": [
        "correct_predictions = (out['predicted'] == out['real_label'])"
      ],
      "metadata": {
        "id": "K8XNrcUk_vkA"
      },
      "execution_count": 59,
      "outputs": []
    },
    {
      "cell_type": "code",
      "source": [
        "correct_predictions"
      ],
      "metadata": {
        "colab": {
          "base_uri": "https://localhost:8080/"
        },
        "id": "4wP3H6E7_6J6",
        "outputId": "3eb7069d-644a-4802-ced1-291940e37c7b"
      },
      "execution_count": 60,
      "outputs": [
        {
          "output_type": "execute_result",
          "data": {
            "text/plain": [
              "0       True\n",
              "1       True\n",
              "2       True\n",
              "3       True\n",
              "4       True\n",
              "        ... \n",
              "1306    True\n",
              "1307    True\n",
              "1308    True\n",
              "1309    True\n",
              "1310    True\n",
              "Length: 1311, dtype: bool"
            ]
          },
          "metadata": {},
          "execution_count": 60
        }
      ]
    },
    {
      "cell_type": "code",
      "source": [
        "out['correctly_predicted'] = 0\n",
        "out.loc[correct_predictions,'correctly_predicted'] = 1 "
      ],
      "metadata": {
        "id": "MI5o_rQG1WBz"
      },
      "execution_count": 61,
      "outputs": []
    },
    {
      "cell_type": "code",
      "source": [
        "out"
      ],
      "metadata": {
        "colab": {
          "base_uri": "https://localhost:8080/",
          "height": 424
        },
        "id": "QhZ9JvS4AAop",
        "outputId": "5915a219-1925-48b2-f701-846d0a7b5d4c"
      },
      "execution_count": 62,
      "outputs": [
        {
          "output_type": "execute_result",
          "data": {
            "text/plain": [
              "                name  predicted real_label  correctly_predicted\n",
              "0     Te-pi_0030.jpg  pituitary  pituitary                    1\n",
              "1     Te-pi_0076.jpg  pituitary  pituitary                    1\n",
              "2     Te-pi_0135.jpg  pituitary  pituitary                    1\n",
              "3     Te-pi_0286.jpg  pituitary  pituitary                    1\n",
              "4     Te-pi_0228.jpg  pituitary  pituitary                    1\n",
              "...              ...        ...        ...                  ...\n",
              "1306  Te-gl_0274.jpg     glioma     glioma                    1\n",
              "1307  Te-gl_0171.jpg     glioma     glioma                    1\n",
              "1308  Te-gl_0186.jpg     glioma     glioma                    1\n",
              "1309  Te-gl_0079.jpg     glioma     glioma                    1\n",
              "1310  Te-gl_0026.jpg     glioma     glioma                    1\n",
              "\n",
              "[1311 rows x 4 columns]"
            ],
            "text/html": [
              "\n",
              "  <div id=\"df-9dcf225b-8ff9-48a1-bfa6-4938197e58cf\">\n",
              "    <div class=\"colab-df-container\">\n",
              "      <div>\n",
              "<style scoped>\n",
              "    .dataframe tbody tr th:only-of-type {\n",
              "        vertical-align: middle;\n",
              "    }\n",
              "\n",
              "    .dataframe tbody tr th {\n",
              "        vertical-align: top;\n",
              "    }\n",
              "\n",
              "    .dataframe thead th {\n",
              "        text-align: right;\n",
              "    }\n",
              "</style>\n",
              "<table border=\"1\" class=\"dataframe\">\n",
              "  <thead>\n",
              "    <tr style=\"text-align: right;\">\n",
              "      <th></th>\n",
              "      <th>name</th>\n",
              "      <th>predicted</th>\n",
              "      <th>real_label</th>\n",
              "      <th>correctly_predicted</th>\n",
              "    </tr>\n",
              "  </thead>\n",
              "  <tbody>\n",
              "    <tr>\n",
              "      <th>0</th>\n",
              "      <td>Te-pi_0030.jpg</td>\n",
              "      <td>pituitary</td>\n",
              "      <td>pituitary</td>\n",
              "      <td>1</td>\n",
              "    </tr>\n",
              "    <tr>\n",
              "      <th>1</th>\n",
              "      <td>Te-pi_0076.jpg</td>\n",
              "      <td>pituitary</td>\n",
              "      <td>pituitary</td>\n",
              "      <td>1</td>\n",
              "    </tr>\n",
              "    <tr>\n",
              "      <th>2</th>\n",
              "      <td>Te-pi_0135.jpg</td>\n",
              "      <td>pituitary</td>\n",
              "      <td>pituitary</td>\n",
              "      <td>1</td>\n",
              "    </tr>\n",
              "    <tr>\n",
              "      <th>3</th>\n",
              "      <td>Te-pi_0286.jpg</td>\n",
              "      <td>pituitary</td>\n",
              "      <td>pituitary</td>\n",
              "      <td>1</td>\n",
              "    </tr>\n",
              "    <tr>\n",
              "      <th>4</th>\n",
              "      <td>Te-pi_0228.jpg</td>\n",
              "      <td>pituitary</td>\n",
              "      <td>pituitary</td>\n",
              "      <td>1</td>\n",
              "    </tr>\n",
              "    <tr>\n",
              "      <th>...</th>\n",
              "      <td>...</td>\n",
              "      <td>...</td>\n",
              "      <td>...</td>\n",
              "      <td>...</td>\n",
              "    </tr>\n",
              "    <tr>\n",
              "      <th>1306</th>\n",
              "      <td>Te-gl_0274.jpg</td>\n",
              "      <td>glioma</td>\n",
              "      <td>glioma</td>\n",
              "      <td>1</td>\n",
              "    </tr>\n",
              "    <tr>\n",
              "      <th>1307</th>\n",
              "      <td>Te-gl_0171.jpg</td>\n",
              "      <td>glioma</td>\n",
              "      <td>glioma</td>\n",
              "      <td>1</td>\n",
              "    </tr>\n",
              "    <tr>\n",
              "      <th>1308</th>\n",
              "      <td>Te-gl_0186.jpg</td>\n",
              "      <td>glioma</td>\n",
              "      <td>glioma</td>\n",
              "      <td>1</td>\n",
              "    </tr>\n",
              "    <tr>\n",
              "      <th>1309</th>\n",
              "      <td>Te-gl_0079.jpg</td>\n",
              "      <td>glioma</td>\n",
              "      <td>glioma</td>\n",
              "      <td>1</td>\n",
              "    </tr>\n",
              "    <tr>\n",
              "      <th>1310</th>\n",
              "      <td>Te-gl_0026.jpg</td>\n",
              "      <td>glioma</td>\n",
              "      <td>glioma</td>\n",
              "      <td>1</td>\n",
              "    </tr>\n",
              "  </tbody>\n",
              "</table>\n",
              "<p>1311 rows × 4 columns</p>\n",
              "</div>\n",
              "      <button class=\"colab-df-convert\" onclick=\"convertToInteractive('df-9dcf225b-8ff9-48a1-bfa6-4938197e58cf')\"\n",
              "              title=\"Convert this dataframe to an interactive table.\"\n",
              "              style=\"display:none;\">\n",
              "        \n",
              "  <svg xmlns=\"http://www.w3.org/2000/svg\" height=\"24px\"viewBox=\"0 0 24 24\"\n",
              "       width=\"24px\">\n",
              "    <path d=\"M0 0h24v24H0V0z\" fill=\"none\"/>\n",
              "    <path d=\"M18.56 5.44l.94 2.06.94-2.06 2.06-.94-2.06-.94-.94-2.06-.94 2.06-2.06.94zm-11 1L8.5 8.5l.94-2.06 2.06-.94-2.06-.94L8.5 2.5l-.94 2.06-2.06.94zm10 10l.94 2.06.94-2.06 2.06-.94-2.06-.94-.94-2.06-.94 2.06-2.06.94z\"/><path d=\"M17.41 7.96l-1.37-1.37c-.4-.4-.92-.59-1.43-.59-.52 0-1.04.2-1.43.59L10.3 9.45l-7.72 7.72c-.78.78-.78 2.05 0 2.83L4 21.41c.39.39.9.59 1.41.59.51 0 1.02-.2 1.41-.59l7.78-7.78 2.81-2.81c.8-.78.8-2.07 0-2.86zM5.41 20L4 18.59l7.72-7.72 1.47 1.35L5.41 20z\"/>\n",
              "  </svg>\n",
              "      </button>\n",
              "      \n",
              "  <style>\n",
              "    .colab-df-container {\n",
              "      display:flex;\n",
              "      flex-wrap:wrap;\n",
              "      gap: 12px;\n",
              "    }\n",
              "\n",
              "    .colab-df-convert {\n",
              "      background-color: #E8F0FE;\n",
              "      border: none;\n",
              "      border-radius: 50%;\n",
              "      cursor: pointer;\n",
              "      display: none;\n",
              "      fill: #1967D2;\n",
              "      height: 32px;\n",
              "      padding: 0 0 0 0;\n",
              "      width: 32px;\n",
              "    }\n",
              "\n",
              "    .colab-df-convert:hover {\n",
              "      background-color: #E2EBFA;\n",
              "      box-shadow: 0px 1px 2px rgba(60, 64, 67, 0.3), 0px 1px 3px 1px rgba(60, 64, 67, 0.15);\n",
              "      fill: #174EA6;\n",
              "    }\n",
              "\n",
              "    [theme=dark] .colab-df-convert {\n",
              "      background-color: #3B4455;\n",
              "      fill: #D2E3FC;\n",
              "    }\n",
              "\n",
              "    [theme=dark] .colab-df-convert:hover {\n",
              "      background-color: #434B5C;\n",
              "      box-shadow: 0px 1px 3px 1px rgba(0, 0, 0, 0.15);\n",
              "      filter: drop-shadow(0px 1px 2px rgba(0, 0, 0, 0.3));\n",
              "      fill: #FFFFFF;\n",
              "    }\n",
              "  </style>\n",
              "\n",
              "      <script>\n",
              "        const buttonEl =\n",
              "          document.querySelector('#df-9dcf225b-8ff9-48a1-bfa6-4938197e58cf button.colab-df-convert');\n",
              "        buttonEl.style.display =\n",
              "          google.colab.kernel.accessAllowed ? 'block' : 'none';\n",
              "\n",
              "        async function convertToInteractive(key) {\n",
              "          const element = document.querySelector('#df-9dcf225b-8ff9-48a1-bfa6-4938197e58cf');\n",
              "          const dataTable =\n",
              "            await google.colab.kernel.invokeFunction('convertToInteractive',\n",
              "                                                     [key], {});\n",
              "          if (!dataTable) return;\n",
              "\n",
              "          const docLinkHtml = 'Like what you see? Visit the ' +\n",
              "            '<a target=\"_blank\" href=https://colab.research.google.com/notebooks/data_table.ipynb>data table notebook</a>'\n",
              "            + ' to learn more about interactive tables.';\n",
              "          element.innerHTML = '';\n",
              "          dataTable['output_type'] = 'display_data';\n",
              "          await google.colab.output.renderOutput(dataTable, element);\n",
              "          const docLink = document.createElement('div');\n",
              "          docLink.innerHTML = docLinkHtml;\n",
              "          element.appendChild(docLink);\n",
              "        }\n",
              "      </script>\n",
              "    </div>\n",
              "  </div>\n",
              "  "
            ]
          },
          "metadata": {},
          "execution_count": 62
        }
      ]
    },
    {
      "cell_type": "code",
      "source": [
        "sum(out['correctly_predicted']) / len(out)"
      ],
      "metadata": {
        "colab": {
          "base_uri": "https://localhost:8080/"
        },
        "id": "JWmWqhvD1n9H",
        "outputId": "e8c2db39-53e8-40cd-da52-2619b9d34e32"
      },
      "execution_count": 66,
      "outputs": [
        {
          "output_type": "execute_result",
          "data": {
            "text/plain": [
              "0.9877955758962624"
            ]
          },
          "metadata": {},
          "execution_count": 66
        }
      ]
    },
    {
      "cell_type": "code",
      "source": [
        "out.to_csv('answer.csv', index=False)"
      ],
      "metadata": {
        "id": "bXhoXLBOAfj9"
      },
      "execution_count": 63,
      "outputs": []
    }
  ]
}